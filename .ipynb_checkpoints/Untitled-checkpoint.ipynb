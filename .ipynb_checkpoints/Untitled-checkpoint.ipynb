{
 "cells": [
  {
   "cell_type": "markdown",
   "id": "19479d34-cbe0-458a-9ef3-7b6c4c36df39",
   "metadata": {},
   "source": [
    "\n",
    "![logo_ironhack_blue 7](https://user-images.githubusercontent.com/23629340/40541063-a07a0a8a-601a-11e8-91b5-2f13e4e6b441.png)\n",
    "\n",
    "# Lab | Inferential statistics\n",
    "\n",
    "\n",
    "### Instructions\n",
    "\n",
    "1. It is assumed that the mean systolic blood pressure is `μ = 120 mm Hg`. In the Honolulu Heart Study, a sample of `n = 100` people had an average systolic blood pressure of 130.1 mm Hg with a standard deviation of 21.21 mm Hg. Is the group significantly different (with respect to systolic blood pressure!) from the regular population?\n",
    "\n",
    "\n",
    "   - Set up the hypothesis test.\n",
    "   - Write down all the steps followed for setting up the test.\n",
    "   - Calculate the test statistic by hand and also code it in Python. It should be 4.76190. We will take a look at how to make decisions based on this calculated value.\n",
    "\n",
    "\n",
    "\n",
    "2. If you finished the previous question, please go through the code for `principal_component_analysis_example` provided in the `files_for_lab` folder .\n"
   ]
  },
  {
   "cell_type": "code",
   "execution_count": 5,
   "id": "198e21d4-c6ed-4910-ba5c-f03aaf898198",
   "metadata": {},
   "outputs": [],
   "source": [
    "import numpy as np\n",
    "import scipy.stats as sts"
   ]
  },
  {
   "cell_type": "code",
   "execution_count": 3,
   "id": "ae1b5f3d-e220-418f-af1f-dbdad934cf9e",
   "metadata": {},
   "outputs": [],
   "source": [
    "n = 100\n",
    "mean = 130.1\n",
    "s = 21.21\n",
    "mu = 120"
   ]
  },
  {
   "cell_type": "code",
   "execution_count": 7,
   "id": "8bf6a34d-9877-44a0-8860-76db88178445",
   "metadata": {},
   "outputs": [],
   "source": [
    "t_stat = (mean - mu) / (s / np.sqrt(n))"
   ]
  },
  {
   "cell_type": "code",
   "execution_count": 9,
   "id": "501ed49f-e259-439f-9166-1b8aed59c430",
   "metadata": {},
   "outputs": [
    {
     "data": {
      "text/plain": [
       "4.761904761904759"
      ]
     },
     "execution_count": 9,
     "metadata": {},
     "output_type": "execute_result"
    }
   ],
   "source": [
    "t_stat"
   ]
  },
  {
   "cell_type": "code",
   "execution_count": null,
   "id": "56831b89-af4d-4f70-92b4-472db52301b2",
   "metadata": {},
   "outputs": [],
   "source": []
  }
 ],
 "metadata": {
  "kernelspec": {
   "display_name": "Python 3 (ipykernel)",
   "language": "python",
   "name": "python3"
  },
  "language_info": {
   "codemirror_mode": {
    "name": "ipython",
    "version": 3
   },
   "file_extension": ".py",
   "mimetype": "text/x-python",
   "name": "python",
   "nbconvert_exporter": "python",
   "pygments_lexer": "ipython3",
   "version": "3.12.7"
  }
 },
 "nbformat": 4,
 "nbformat_minor": 5
}
